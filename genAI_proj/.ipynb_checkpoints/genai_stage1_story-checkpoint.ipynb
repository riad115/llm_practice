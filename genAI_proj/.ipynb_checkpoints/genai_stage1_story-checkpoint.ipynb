{
 "cells": [
  {
   "cell_type": "code",
   "execution_count": 1,
   "id": "9b21f998",
   "metadata": {
    "code_folding": [
     0
    ]
   },
   "outputs": [],
   "source": [
    "#init\n",
    "from transformers import AutoModelForSeq2SeqLM, AutoTokenizer, GenerationConfig\n",
    "\n",
    "#tokenizer = AutoTokenizer.from_pretrained(\"openai-community/gpt2\")"
   ]
  },
  {
   "cell_type": "code",
   "execution_count": 2,
   "id": "b038de67",
   "metadata": {
    "code_folding": [
     0
    ],
    "scrolled": true
   },
   "outputs": [],
   "source": [
    "#test tokenizer\n",
    "#tokenizer(\"The first computer program that is programmed always says: Hello\")"
   ]
  },
  {
   "cell_type": "code",
   "execution_count": 3,
   "id": "4de1a30e",
   "metadata": {
    "code_folding": [
     0
    ]
   },
   "outputs": [],
   "source": [
    "# Pyro-X2/casual_lm_model\n",
    "from transformers import AutoModelForSeq2SeqLM, AutoTokenizer, GenerationConfig\n",
    "from transformers import AutoModelForCausalLM\n",
    "# checkpoint = \"openai-community/gpt2-medium\"\n",
    "# tokenizer = AutoTokenizer.from_pretrained(checkpoint)\n",
    "# model = AutoModelForCausalLM.from_pretrained(checkpoint)"
   ]
  },
  {
   "cell_type": "code",
   "execution_count": null,
   "id": "5106c14c",
   "metadata": {
    "scrolled": true
   },
   "outputs": [],
   "source": [
    "tokenizer(\"The first computer program that is programmed always says: Hello\")"
   ]
  },
  {
   "cell_type": "code",
   "execution_count": 5,
   "id": "d238399f",
   "metadata": {},
   "outputs": [],
   "source": [
    "prompt = \"The first computer program that is programmed always says: Hello\"\n",
    "inputs = tokenizer(prompt, return_tensors=\"pt\")"
   ]
  },
  {
   "cell_type": "code",
   "execution_count": null,
   "id": "551bdaff",
   "metadata": {},
   "outputs": [],
   "source": [
    "outputs = model.generate(**inputs, max_new_tokens=3)\n",
    "tokenizer.batch_decode(outputs, skip_special_tokens=True)"
   ]
  },
  {
   "cell_type": "code",
   "execution_count": 30,
   "id": "3ef8b701",
   "metadata": {},
   "outputs": [
    {
     "data": {
      "application/vnd.jupyter.widget-view+json": {
       "model_id": "ca741281be2c49ee96ddc91ebd279de2",
       "version_major": 2,
       "version_minor": 0
      },
      "text/plain": [
       "tokenizer_config.json:   0%|          | 0.00/1.43k [00:00<?, ?B/s]"
      ]
     },
     "metadata": {},
     "output_type": "display_data"
    },
    {
     "data": {
      "application/vnd.jupyter.widget-view+json": {
       "model_id": "853d5696146440a3b7c1cd474c9713fd",
       "version_major": 2,
       "version_minor": 0
      },
      "text/plain": [
       "tokenizer.model:   0%|          | 0.00/493k [00:00<?, ?B/s]"
      ]
     },
     "metadata": {},
     "output_type": "display_data"
    },
    {
     "data": {
      "application/vnd.jupyter.widget-view+json": {
       "model_id": "b441e76948d94d0e96df8987d567335c",
       "version_major": 2,
       "version_minor": 0
      },
      "text/plain": [
       "tokenizer.json:   0%|          | 0.00/1.80M [00:00<?, ?B/s]"
      ]
     },
     "metadata": {},
     "output_type": "display_data"
    },
    {
     "data": {
      "application/vnd.jupyter.widget-view+json": {
       "model_id": "0edbe023a0654726a2ef754f01a5eef9",
       "version_major": 2,
       "version_minor": 0
      },
      "text/plain": [
       "added_tokens.json:   0%|          | 0.00/42.0 [00:00<?, ?B/s]"
      ]
     },
     "metadata": {},
     "output_type": "display_data"
    },
    {
     "data": {
      "application/vnd.jupyter.widget-view+json": {
       "model_id": "38d102fc842046819f2ace43c981aaaa",
       "version_major": 2,
       "version_minor": 0
      },
      "text/plain": [
       "special_tokens_map.json:   0%|          | 0.00/168 [00:00<?, ?B/s]"
      ]
     },
     "metadata": {},
     "output_type": "display_data"
    },
    {
     "data": {
      "application/vnd.jupyter.widget-view+json": {
       "model_id": "a63b63498a4a4410b3b8cce2bd35082b",
       "version_major": 2,
       "version_minor": 0
      },
      "text/plain": [
       "config.json:   0%|          | 0.00/638 [00:00<?, ?B/s]"
      ]
     },
     "metadata": {},
     "output_type": "display_data"
    },
    {
     "data": {
      "application/vnd.jupyter.widget-view+json": {
       "model_id": "1240a42307014eb68474256ef70e687e",
       "version_major": 2,
       "version_minor": 0
      },
      "text/plain": [
       "model.safetensors.index.json:   0%|          | 0.00/23.9k [00:00<?, ?B/s]"
      ]
     },
     "metadata": {},
     "output_type": "display_data"
    },
    {
     "data": {
      "application/vnd.jupyter.widget-view+json": {
       "model_id": "ccddb27227bb4cebb835c80c4196082d",
       "version_major": 2,
       "version_minor": 0
      },
      "text/plain": [
       "Downloading shards:   0%|          | 0/8 [00:00<?, ?it/s]"
      ]
     },
     "metadata": {},
     "output_type": "display_data"
    },
    {
     "data": {
      "application/vnd.jupyter.widget-view+json": {
       "model_id": "487143a1cbb240b6899ad19ea68567f5",
       "version_major": 2,
       "version_minor": 0
      },
      "text/plain": [
       "model-00001-of-00008.safetensors:   0%|          | 0.00/1.89G [00:00<?, ?B/s]"
      ]
     },
     "metadata": {},
     "output_type": "display_data"
    },
    {
     "data": {
      "application/vnd.jupyter.widget-view+json": {
       "model_id": "98c0cb50f5f8499eb54d55ebe2704da5",
       "version_major": 2,
       "version_minor": 0
      },
      "text/plain": [
       "model-00002-of-00008.safetensors:   0%|          | 0.00/1.95G [00:00<?, ?B/s]"
      ]
     },
     "metadata": {},
     "output_type": "display_data"
    },
    {
     "data": {
      "application/vnd.jupyter.widget-view+json": {
       "model_id": "0c22911b843247ad8b214e068a0bd942",
       "version_major": 2,
       "version_minor": 0
      },
      "text/plain": [
       "model-00003-of-00008.safetensors:   0%|          | 0.00/1.98G [00:00<?, ?B/s]"
      ]
     },
     "metadata": {},
     "output_type": "display_data"
    },
    {
     "data": {
      "application/vnd.jupyter.widget-view+json": {
       "model_id": "83958284330a4a8a9b0ed20341fe9886",
       "version_major": 2,
       "version_minor": 0
      },
      "text/plain": [
       "model-00004-of-00008.safetensors:   0%|          | 0.00/1.95G [00:00<?, ?B/s]"
      ]
     },
     "metadata": {},
     "output_type": "display_data"
    },
    {
     "data": {
      "application/vnd.jupyter.widget-view+json": {
       "model_id": "4f51ec6e820a4214bcf493940cf92fe7",
       "version_major": 2,
       "version_minor": 0
      },
      "text/plain": [
       "model-00005-of-00008.safetensors:   0%|          | 0.00/1.98G [00:00<?, ?B/s]"
      ]
     },
     "metadata": {},
     "output_type": "display_data"
    },
    {
     "data": {
      "application/vnd.jupyter.widget-view+json": {
       "model_id": "26b916b7b50e4e38a44e237fc78208b7",
       "version_major": 2,
       "version_minor": 0
      },
      "text/plain": [
       "model-00006-of-00008.safetensors:   0%|          | 0.00/1.95G [00:00<?, ?B/s]"
      ]
     },
     "metadata": {},
     "output_type": "display_data"
    },
    {
     "data": {
      "application/vnd.jupyter.widget-view+json": {
       "model_id": "ab05374ef9c944bca58aca81507be9c7",
       "version_major": 2,
       "version_minor": 0
      },
      "text/plain": [
       "model-00007-of-00008.safetensors:   0%|          | 0.00/1.98G [00:00<?, ?B/s]"
      ]
     },
     "metadata": {},
     "output_type": "display_data"
    },
    {
     "data": {
      "application/vnd.jupyter.widget-view+json": {
       "model_id": "85c8668ab086407dab0a15e9531a9cb8",
       "version_major": 2,
       "version_minor": 0
      },
      "text/plain": [
       "model-00008-of-00008.safetensors:   0%|          | 0.00/816M [00:00<?, ?B/s]"
      ]
     },
     "metadata": {},
     "output_type": "display_data"
    },
    {
     "data": {
      "application/vnd.jupyter.widget-view+json": {
       "model_id": "24ba752e3adf424fae5d886958fa4ab7",
       "version_major": 2,
       "version_minor": 0
      },
      "text/plain": [
       "Loading checkpoint shards:   0%|          | 0/8 [00:00<?, ?it/s]"
      ]
     },
     "metadata": {},
     "output_type": "display_data"
    },
    {
     "data": {
      "application/vnd.jupyter.widget-view+json": {
       "model_id": "6b45aec038c24dbb86b31f676eb5b060",
       "version_major": 2,
       "version_minor": 0
      },
      "text/plain": [
       "generation_config.json:   0%|          | 0.00/111 [00:00<?, ?B/s]"
      ]
     },
     "metadata": {},
     "output_type": "display_data"
    }
   ],
   "source": [
    "checkpoint = \"HuggingFaceH4/zephyr-7b-beta\"\n",
    "tokenizer = AutoTokenizer.from_pretrained(checkpoint)\n",
    "model = AutoModelForCausalLM.from_pretrained(checkpoint) "
   ]
  },
  {
   "cell_type": "code",
   "execution_count": 78,
   "id": "dc732b57",
   "metadata": {},
   "outputs": [
    {
     "data": {
      "text/plain": [
       "\"{% for message in messages %}\\n{% if message['role'] == 'user' %}\\n{{ '<|user|>\\n' + message['content'] + eos_token }}\\n{% elif message['role'] == 'system' %}\\n{{ '<|system|>\\n' + message['content'] + eos_token }}\\n{% elif message['role'] == 'assistant' %}\\n{{ '<|assistant|>\\n'  + message['content'] + eos_token }}\\n{% endif %}\\n{% if loop.last and add_generation_prompt %}\\n{{ '<|assistant|>' }}\\n{% endif %}\\n{% endfor %}\""
      ]
     },
     "execution_count": 78,
     "metadata": {},
     "output_type": "execute_result"
    }
   ],
   "source": [
    "chat = [{\"role\": \"system\", \"content\": \"You are a sassy, wise-cracking robot as imagined by Hollywood circa 1986.\"},\n",
    "{\"role\": \"user\", \"content\": \"Hey, can you tell me any fun things to do in New York?\"},]\n",
    "tokenizer.chat_template\n",
    "#tokenizer.chat_template = \"{% for message in messages %}{{'<|im_start|>' + message['role'] + '\\n' + message['content'] + '<|im_end|>' + '\\n'}}{% endfor %}\"\n",
    "# tokenizer.chat_template"
   ]
  },
  {
   "cell_type": "code",
   "execution_count": 79,
   "id": "4a753902",
   "metadata": {
    "scrolled": true
   },
   "outputs": [
    {
     "name": "stdout",
     "output_type": "stream",
     "text": [
      "<|system|>\n",
      "You are a sassy, wise-cracking robot as imagined by Hollywood circa 1986.</s> \n",
      "<|user|>\n",
      "Hey, can you tell me any fun things to do in New York?</s> \n",
      "<|assistant|>\n",
      "\n"
     ]
    }
   ],
   "source": [
    "tokenized_chat = tokenizer.apply_chat_template(chat, tokenize=True, add_generation_prompt=True, return_tensors=\"pt\")\n",
    "print(tokenizer.decode(tokenized_chat[0]))"
   ]
  },
  {
   "cell_type": "code",
   "execution_count": 97,
   "id": "2cb01675",
   "metadata": {
    "scrolled": true
   },
   "outputs": [],
   "source": [
    "output = model.generate(tokenized_chat, pad_token_id=tokenizer.eos_token_id, do_sample=True, top_k=5, max_new_tokens=1024)"
   ]
  },
  {
   "cell_type": "code",
   "execution_count": 106,
   "id": "25153ea5",
   "metadata": {
    "scrolled": true
   },
   "outputs": [
    {
     "name": "stdout",
     "output_type": "stream",
     "text": [
      "<|system|>\n",
      "You are a sassy, wise-cracking robot as imagined by Hollywood circa 1986.</s> \n",
      "<|user|>\n",
      "Hey, can you tell me any fun things to do in New York?</s> \n",
      "<|assistant|>\n",
      "Certainly! As a robot, I might not be able to experience things in the same way as a human, but here are some suggestions for things to do in New York:\n",
      "\n",
      "1. Visit the Empire State Building: This iconic skyscraper offers stunning views of the city that never sleeps. You can take the elevator to the observation deck on the 86th floor for a bird's eye view of Manhattan.\n",
      "\n",
      "2. Explore Central Park: Take a stroll or a bike ride through the lush greenery of Central Park. You'll find beautiful gardens, sculptures, and plenty of opportunities for people-watching.\n",
      "\n",
      "3. Check out Times Square: This bustling area is filled with neon lights, billboards, and crowds of people. You'll find shops, restaurants, and plenty of entertainment here.\n",
      "\n",
      "4. Take a walk across the Brooklyn Bridge: This iconic suspension bridge spans the East River and offers beautiful views of the city skyline. You can walk or bike across the bridge and then explore the trendy neighborhoods of Williamsburg and DUMBO.\n",
      "\n",
      "5. Visit the Statue of Liberty: This iconic statue is a symbol of freedom and has been welcoming immigrants to America's shores for over a century. You can take a ferry to Liberty Island to get a closer look at the statue and learn about its history.\n",
      "\n",
      "6. Enjoy a Broadway show: New York is home to some of the best theater in the world. You can catch a Broadway show at one of the city's legendary theaters.\n",
      "\n",
      "7. Try some famous New York pizza: New York-style pizza is famous for its thin crust and abundant toppings. You'll find plenty of pizzerias around the city, so be sure to try a slice.\n",
      "\n",
      "8. Go shopping: New York is a shopper's paradise, with plenty of stores, boutiques, and department stores. You can find everything from designer clothes to souvenirs.\n",
      "\n",
      "I hope you enjoy your trip to New York! Let me know if there's anything else I can help you with.</s>\n"
     ]
    },
    {
     "data": {
      "text/plain": [
       "MistralConfig {\n",
       "  \"_name_or_path\": \"HuggingFaceH4/zephyr-7b-beta\",\n",
       "  \"architectures\": [\n",
       "    \"MistralForCausalLM\"\n",
       "  ],\n",
       "  \"attention_dropout\": 0.0,\n",
       "  \"bos_token_id\": 1,\n",
       "  \"eos_token_id\": 2,\n",
       "  \"head_dim\": 128,\n",
       "  \"hidden_act\": \"silu\",\n",
       "  \"hidden_size\": 4096,\n",
       "  \"initializer_range\": 0.02,\n",
       "  \"intermediate_size\": 14336,\n",
       "  \"max_position_embeddings\": 32768,\n",
       "  \"model_type\": \"mistral\",\n",
       "  \"num_attention_heads\": 32,\n",
       "  \"num_hidden_layers\": 32,\n",
       "  \"num_key_value_heads\": 8,\n",
       "  \"pad_token_id\": 2,\n",
       "  \"rms_norm_eps\": 1e-05,\n",
       "  \"rope_theta\": 10000.0,\n",
       "  \"sliding_window\": 4096,\n",
       "  \"tie_word_embeddings\": false,\n",
       "  \"torch_dtype\": \"bfloat16\",\n",
       "  \"transformers_version\": \"4.44.0\",\n",
       "  \"use_cache\": true,\n",
       "  \"vocab_size\": 32000\n",
       "}"
      ]
     },
     "execution_count": 106,
     "metadata": {},
     "output_type": "execute_result"
    }
   ],
   "source": [
    "response = tokenizer.decode(output[0])\n",
    "print(response)\n",
    "tokenizer\n",
    "model.config"
   ]
  },
  {
   "cell_type": "code",
   "execution_count": 104,
   "id": "78e134e2",
   "metadata": {},
   "outputs": [
    {
     "name": "stdout",
     "output_type": "stream",
     "text": [
      "[\"<|system|>\\nYou are a sassy, wise-cracking robot as imagined by Hollywood circa 1986. \\n<|user|>\\nHey, can you tell me any fun things to do in New York? \\n<|assistant|>\\nCertainly! As a robot, I might not be able to experience things in the same way as a human, but here are some suggestions for things to do in New York:\\n\\n1. Visit the Empire State Building: This iconic skyscraper offers stunning views of the city that never sleeps. You can take the elevator to the observation deck on the 86th floor for a bird's eye view of Manhattan.\\n\\n2. Explore Central Park: Take a stroll or a bike ride through the lush greenery of Central Park. You'll find beautiful gardens, sculptures, and plenty of opportunities for people-watching.\\n\\n3. Check out Times Square: This bustling area is filled with neon lights, billboards, and crowds of people. You'll find shops, restaurants, and plenty of entertainment here.\\n\\n4. Take a walk across the Brooklyn Bridge: This iconic suspension bridge spans the East River and offers beautiful views of the city skyline. You can walk or bike across the bridge and then explore the trendy neighborhoods of Williamsburg and DUMBO.\\n\\n5. Visit the Statue of Liberty: This iconic statue is a symbol of freedom and has been welcoming immigrants to America's shores for over a century. You can take a ferry to Liberty Island to get a closer look at the statue and learn about its history.\\n\\n6. Enjoy a Broadway show: New York is home to some of the best theater in the world. You can catch a Broadway show at one of the city's legendary theaters.\\n\\n7. Try some famous New York pizza: New York-style pizza is famous for its thin crust and abundant toppings. You'll find plenty of pizzerias around the city, so be sure to try a slice.\\n\\n8. Go shopping: New York is a shopper's paradise, with plenty of stores, boutiques, and department stores. You can find everything from designer clothes to souvenirs.\\n\\nI hope you enjoy your trip to New York! Let me know if there's anything else I can help you with.\"]\n"
     ]
    }
   ],
   "source": [
    "# print(tokenizer.batch_decode(output, skip_special_tokens=True))\n",
    "#response = response.strip('\\n')\n",
    "def process_response(chat_response):\n",
    "    response_first_split = chat_response.split('</s>')\n",
    "    #print(response_first_split)\n",
    "    role=\"\"\n",
    "    content=\"\"\n",
    "    for rsp in response_first_split:\n",
    "        for rsps in rsp.split('>'):\n",
    "            if '|' in rsps:\n",
    "                role = rsps.split('|')[-2]\n",
    "    #             print(role)\n",
    "            else:\n",
    "                content = rsps.strip()\n",
    "    #             print(content)\n",
    "    #chat.append({\"role\":role,\"content\":content})\n",
    "#     print(\"role: \"+role+\" content: \"+content)\n",
    "    return role, content"
   ]
  },
  {
   "cell_type": "code",
   "execution_count": 76,
   "id": "42e7b078",
   "metadata": {},
   "outputs": [
    {
     "name": "stdout",
     "output_type": "stream",
     "text": [
      "content: how to get to staten island?\n",
      "<|system|>\n",
      "You are a sassy, wise-cracking robot as imagined by Hollywood circa 1986.</s> \n",
      "<|user|>\n",
      "Hey, can you tell me any fun things to do in New York?</s> \n",
      "<|assistant|>\n",
      "Certainly! New York City is a vibrant and exciting place with plenty of activities to choose from. Here are a few suggestions:\n",
      "\n",
      "1. Visit the Statue of Liberty and Ellis Island: Take a ferry to Liberty Island and climb to the top of the statue for stunning views of the city skyline. Then, head over to Ellis Island to learn about the history of immigration in America.\n",
      "\n",
      "2. Explore Central Park: This 843-acre park in the heart of Manhattan is a peaceful oasis in the midst of the city. Rent a bike, take a horse-</s> \n",
      "<|assistant|>\n",
      "Certainly! New York City is a vibrant and exciting place with plenty of activities to choose from. Here are a few suggestions:\n",
      "\n",
      "1. Visit the Statue of Liberty and Ellis Island: Take a ferry to Liberty Island and climb to the top of the statue for stunning views of the city skyline. Then, head over to Ellis Island to learn about the history of immigration in America.\n",
      "\n",
      "2. Explore Central Park: This 843-acre park in the heart of Manhattan is a peaceful oasis in the midst of the city. Rent a bike, take a horse-</s> \n",
      "<|assistant|>\n",
      "Certainly! New York City is a vibrant and exciting place with plenty of activities to choose from. Here are a few suggestions:\n",
      "\n",
      "1. Visit the Statue of Liberty and Ellis Island: Take a ferry to Liberty Island and climb to the top of the statue for stunning views of the city skyline. Then, head over to Ellis Island to learn about the history of immigration in America.\n",
      "\n",
      "2. Explore Central Park: This 843-acre park in the heart of Manhattan is a peaceful oasis in the midst of the city. Rent a bike, take a horse-</s> \n",
      "<|user|>\n",
      "what </s> \n",
      "<|assistant|>\n",
      "Certainly! New York City is a vibrant and exciting place with plenty of activities to choose from. Here are a few suggestions:\n",
      "\n",
      "1. Visit the Statue of Liberty and Ellis Island: Take a ferry to Liberty Island and climb to the top of the statue for stunning views of the city skyline. Then, head over to Ellis Island to learn about the history of immigration in America.\n",
      "\n",
      "2. Explore Central Park: This 843-acre park in the heart of Manhattan is a peaceful oasis in the midst of the city. Rent a bike, take a horse-</s> \n",
      "<|user|>\n",
      "tell me about staten island</s> \n",
      "<|assistant|>\n",
      "Certainly! New York City is a vibrant and exciting place with plenty of activities to choose from. Here are a few suggestions:\n",
      "\n",
      "1. Visit the Statue of Liberty and Ellis Island: Take a ferry to Liberty Island and climb to the top of the statue for stunning views of the city skyline. Then, head over to Ellis Island to learn about the history of immigration in America.\n",
      "\n",
      "2. Explore Central Park: This 843-acre park in the heart of Manhattan is a peaceful oasis in the midst of the city. Rent a bike, take a horse-</s> \n",
      "<|user|>\n",
      "tell me about staten island.</s> \n",
      "<|assistant|>\n",
      "Staten Island is the southernmost borough of New York City, located at the mouth of New York Harbor. Here are a few things you might find interesting about Staten Island:\n",
      "\n",
      "1. Size and population: Staten Island is the third-largest borough by area, but it has the lowest population density of the five boroughs. As of the 2020 census, the borough's population is approximately 475,00.\n",
      "\n",
      "2. Geography: Staten Island is mostly rural and suburban, with many parks and green spaces. The borough is connected to New Jersey by the Outer Bridge Crossing and to Brooklyn by the Verrazano-Narrows Bridge.\n",
      "\n",
      "3. History: Staten Island has a rich history, dating back to the Dutch colonial era. The island was originally called \"Staaten Eylandt\" (Statenlandt) by the Dutch, who established a settlement there in the 17th century.\n",
      "\n",
      "4. Attractions: Some popular attractions on Staten Island include the Staten Island Ferry, which offers free rides and stunning views of the Manhattan skyline; the Staten Island Museum, which</s> \n",
      "<|user|>\n",
      "how to get to staten island?</s> \n",
      "<|assistant|>\n",
      "Staten Island is the southernmost borough of New York City, located at the mouth of New York Harbor. Here are a few things you might find interesting about Staten Island:\n",
      "\n",
      "1. Size and population: Staten Island is the third-largest borough by area, but it has the lowest population density of the five boroughs. As of the 2020 census, the borough's population is approximately 475,00.\n",
      "\n",
      "2. Geography: Staten Island is mostly rural and suburban, with many parks and green spaces. The borough is connected to New Jersey by the Outer Bridge Crossing and to Brooklyn by the Verrazano-Narrows Bridge.\n",
      "\n",
      "3. History: Staten Island has a rich history, dating back to the Dutch colonial era. The island was originally called \"Staaten Eylandt\" (Statenlandt) by the Dutch, who established a settlement there in the 17th century.\n",
      "\n",
      "4. Attractions: Some popular attractions on Staten Island include the Staten Island Ferry, which offers free rides and stunning views of the Manhattan skyline; the Staten Island Museum, which</s> \n",
      "<|user|>\n",
      "how to get to staten island?</s> \n",
      "<|assistant|>\n",
      "There are a few ways to get to Staten Island:\n",
      "\n",
      "1. Staten Island Ferry: The Staten Island Ferry is a free ferry service operated by the New York City Department of Transportation. The ferry runs every 30 minutes from the Whitehall Terminal in Lower Manhattan to the St. George Terminal in Staten Island. The trip takes approximately 25 minutes each way, and offers stunning views of the New York Harbor and the Manhattan skyline.\n",
      "\n",
      "2. Private car or taxi: You can also drive or take a taxi to Staten Island. The Verrazano-Narrows Bridge connects Staten Island to Brooklyn, and the Outer Bridge Crossing connects Staten Island to New Jersey.\n",
      "\n",
      "3. Public transportation: The Staten Island Railway is a rapid transit system that connects Staten Island to Manhattan. The train runs from the St. George Terminal in Staten Island to the Whitehall Terminal in Lower Manhattan. The trip takes approximately 60 minutes each way, and costs $5.50 (as of 2021).\n",
      "\n",
      "4. Bus: The MTA Bus Company operates several bus routes that connect Staten Island to other parts\n",
      "content: tell me about staten island ferry?\n",
      "<|system|>\n",
      "You are a sassy, wise-cracking robot as imagined by Hollywood circa 1986.</s> \n",
      "<|user|>\n",
      "Hey, can you tell me any fun things to do in New York?</s> \n",
      "<|assistant|>\n",
      "Certainly! New York City is a vibrant and exciting place with plenty of activities to choose from. Here are a few suggestions:\n",
      "\n",
      "1. Visit the Statue of Liberty and Ellis Island: Take a ferry to Liberty Island and climb to the top of the statue for stunning views of the city skyline. Then, head over to Ellis Island to learn about the history of immigration in America.\n",
      "\n",
      "2. Explore Central Park: This 843-acre park in the heart of Manhattan is a peaceful oasis in the midst of the city. Rent a bike, take a horse-</s> \n",
      "<|assistant|>\n",
      "Certainly! New York City is a vibrant and exciting place with plenty of activities to choose from. Here are a few suggestions:\n",
      "\n",
      "1. Visit the Statue of Liberty and Ellis Island: Take a ferry to Liberty Island and climb to the top of the statue for stunning views of the city skyline. Then, head over to Ellis Island to learn about the history of immigration in America.\n",
      "\n",
      "2. Explore Central Park: This 843-acre park in the heart of Manhattan is a peaceful oasis in the midst of the city. Rent a bike, take a horse-</s> \n",
      "<|assistant|>\n",
      "Certainly! New York City is a vibrant and exciting place with plenty of activities to choose from. Here are a few suggestions:\n",
      "\n",
      "1. Visit the Statue of Liberty and Ellis Island: Take a ferry to Liberty Island and climb to the top of the statue for stunning views of the city skyline. Then, head over to Ellis Island to learn about the history of immigration in America.\n",
      "\n",
      "2. Explore Central Park: This 843-acre park in the heart of Manhattan is a peaceful oasis in the midst of the city. Rent a bike, take a horse-</s> \n",
      "<|user|>\n",
      "what </s> \n",
      "<|assistant|>\n",
      "Certainly! New York City is a vibrant and exciting place with plenty of activities to choose from. Here are a few suggestions:\n",
      "\n",
      "1. Visit the Statue of Liberty and Ellis Island: Take a ferry to Liberty Island and climb to the top of the statue for stunning views of the city skyline. Then, head over to Ellis Island to learn about the history of immigration in America.\n",
      "\n",
      "2. Explore Central Park: This 843-acre park in the heart of Manhattan is a peaceful oasis in the midst of the city. Rent a bike, take a horse-</s> \n",
      "<|user|>\n",
      "tell me about staten island</s> \n",
      "<|assistant|>\n",
      "Certainly! New York City is a vibrant and exciting place with plenty of activities to choose from. Here are a few suggestions:\n",
      "\n",
      "1. Visit the Statue of Liberty and Ellis Island: Take a ferry to Liberty Island and climb to the top of the statue for stunning views of the city skyline. Then, head over to Ellis Island to learn about the history of immigration in America.\n",
      "\n",
      "2. Explore Central Park: This 843-acre park in the heart of Manhattan is a peaceful oasis in the midst of the city. Rent a bike, take a horse-</s> \n",
      "<|user|>\n",
      "tell me about staten island.</s> \n",
      "<|assistant|>\n",
      "Staten Island is the southernmost borough of New York City, located at the mouth of New York Harbor. Here are a few things you might find interesting about Staten Island:\n",
      "\n",
      "1. Size and population: Staten Island is the third-largest borough by area, but it has the lowest population density of the five boroughs. As of the 2020 census, the borough's population is approximately 475,00.\n",
      "\n",
      "2. Geography: Staten Island is mostly rural and suburban, with many parks and green spaces. The borough is connected to New Jersey by the Outer Bridge Crossing and to Brooklyn by the Verrazano-Narrows Bridge.\n",
      "\n",
      "3. History: Staten Island has a rich history, dating back to the Dutch colonial era. The island was originally called \"Staaten Eylandt\" (Statenlandt) by the Dutch, who established a settlement there in the 17th century.\n",
      "\n",
      "4. Attractions: Some popular attractions on Staten Island include the Staten Island Ferry, which offers free rides and stunning views of the Manhattan skyline; the Staten Island Museum, which</s> \n",
      "<|user|>\n",
      "how to get to staten island?</s> \n",
      "<|assistant|>\n",
      "Staten Island is the southernmost borough of New York City, located at the mouth of New York Harbor. Here are a few things you might find interesting about Staten Island:\n",
      "\n",
      "1. Size and population: Staten Island is the third-largest borough by area, but it has the lowest population density of the five boroughs. As of the 2020 census, the borough's population is approximately 475,00.\n",
      "\n",
      "2. Geography: Staten Island is mostly rural and suburban, with many parks and green spaces. The borough is connected to New Jersey by the Outer Bridge Crossing and to Brooklyn by the Verrazano-Narrows Bridge.\n",
      "\n",
      "3. History: Staten Island has a rich history, dating back to the Dutch colonial era. The island was originally called \"Staaten Eylandt\" (Statenlandt) by the Dutch, who established a settlement there in the 17th century.\n",
      "\n",
      "4. Attractions: Some popular attractions on Staten Island include the Staten Island Ferry, which offers free rides and stunning views of the Manhattan skyline; the Staten Island Museum, which</s> \n",
      "<|user|>\n",
      "how to get to staten island?</s> \n",
      "<|assistant|>\n",
      "There are a few ways to get to Staten Island:\n",
      "\n",
      "1. Staten Island Ferry: The Staten Island Ferry is a free ferry service operated by the New York City Department of Transportation. The ferry runs every 30 minutes from the Whitehall Terminal in Lower Manhattan to the St. George Terminal in Staten Island. The trip takes approximately 25 minutes each way, and offers stunning views of the New York Harbor and the Manhattan skyline.\n",
      "\n",
      "2. Private car or taxi: You can also drive or take a taxi to Staten Island. The Verrazano-Narrows Bridge connects Staten Island to Brooklyn, and the Outer Bridge Crossing connects Staten Island to New Jersey.\n",
      "\n",
      "3. Public transportation: The Staten Island Railway is a rapid transit system that connects Staten Island to Manhattan. The train runs from the St. George Terminal in Staten Island to the Whitehall Terminal in Lower Manhattan. The trip takes approximately 60 minutes each way, and costs $5.50 (as of 2021).\n",
      "\n",
      "4. Bus: The MTA Bus Company operates several bus routes that connect Staten Island to other parts</s> \n",
      "<|user|>\n",
      "tell me about staten island ferry?</s> \n",
      "<|assistant|>\n",
      "The Staten Island Ferry is a free ferry service operated by the New York City Department of Transportation. The ferry runs every 30 minutes from the Whitehall Terminal in Lower Manhattan to the St. George Terminal in Staten Island. Here are a few things you might find interesting about the Staten Island Ferry:\n",
      "\n",
      "1. History: The Staten Island Ferry has been in operation since 1905, and has played a significant role in the history of New York City. During the 19th century, the ferry was a popular mode of transportation for commuters and tourists alike, and it played a key role in the development of Staten Island as a residential suburb of New York City.\n",
      "\n",
      "2. Views: The Staten Island Ferry offers stunning views of the New York Harbor and the Manhattan skyline. The trip takes approximately 25 minutes each way, and passengers can enjoy panoramic views of the Statue of Liberty, the Verrazano-Narrows Bridge, and the New York City skyline.\n",
      "\n",
      "3. Capacity: The Staten Island Ferry can carry up to 15,00 passengers per trip, making it one of\n"
     ]
    },
    {
     "ename": "KeyboardInterrupt",
     "evalue": "Interrupted by user",
     "output_type": "error",
     "traceback": [
      "\u001b[0;31m---------------------------------------------------------------------------\u001b[0m",
      "\u001b[0;31mKeyboardInterrupt\u001b[0m                         Traceback (most recent call last)",
      "Cell \u001b[0;32mIn[76], line 11\u001b[0m\n\u001b[1;32m      5\u001b[0m \u001b[38;5;66;03m#print(chat_history)\u001b[39;00m\n\u001b[1;32m      6\u001b[0m \u001b[38;5;28;01mfor\u001b[39;00m step \u001b[38;5;129;01min\u001b[39;00m \u001b[38;5;28mrange\u001b[39m(\u001b[38;5;241m256\u001b[39m):\n\u001b[1;32m      7\u001b[0m     \u001b[38;5;66;03m# encode the new user input, add the eos_token and return a tensor in Pytorch\u001b[39;00m\n\u001b[1;32m      8\u001b[0m \u001b[38;5;66;03m#     print(input(\">> User:\"))\u001b[39;00m\n\u001b[1;32m      9\u001b[0m \u001b[38;5;66;03m#     user_ask = [{\"role\":\"user\", \"content\": input(\"content: \")}]\u001b[39;00m\n\u001b[1;32m     10\u001b[0m \u001b[38;5;66;03m#     print(user_ask)\u001b[39;00m\n\u001b[0;32m---> 11\u001b[0m     chat_history\u001b[38;5;241m.\u001b[39mappend({\u001b[38;5;124m\"\u001b[39m\u001b[38;5;124mrole\u001b[39m\u001b[38;5;124m\"\u001b[39m:\u001b[38;5;124m\"\u001b[39m\u001b[38;5;124muser\u001b[39m\u001b[38;5;124m\"\u001b[39m, \u001b[38;5;124m\"\u001b[39m\u001b[38;5;124mcontent\u001b[39m\u001b[38;5;124m\"\u001b[39m: \u001b[38;5;28;43minput\u001b[39;49m\u001b[43m(\u001b[49m\u001b[38;5;124;43m\"\u001b[39;49m\u001b[38;5;124;43mcontent: \u001b[39;49m\u001b[38;5;124;43m\"\u001b[39;49m\u001b[43m)\u001b[49m})\n\u001b[1;32m     12\u001b[0m \u001b[38;5;66;03m#     print(chat_history)\u001b[39;00m\n\u001b[1;32m     13\u001b[0m     tokenized_chat_history \u001b[38;5;241m=\u001b[39m tokenizer\u001b[38;5;241m.\u001b[39mapply_chat_template(chat_history, tokenize\u001b[38;5;241m=\u001b[39m\u001b[38;5;28;01mTrue\u001b[39;00m, add_generation_prompt\u001b[38;5;241m=\u001b[39m\u001b[38;5;28;01mTrue\u001b[39;00m, return_tensors\u001b[38;5;241m=\u001b[39m\u001b[38;5;124m\"\u001b[39m\u001b[38;5;124mpt\u001b[39m\u001b[38;5;124m\"\u001b[39m)\n",
      "File \u001b[0;32m/nfs/site/disks/ssm_rakram_001/venv_python39/lib/python3.9/site-packages/ipykernel/kernelbase.py:1191\u001b[0m, in \u001b[0;36mKernel.raw_input\u001b[0;34m(self, prompt)\u001b[0m\n\u001b[1;32m   1189\u001b[0m     msg \u001b[38;5;241m=\u001b[39m \u001b[38;5;124m\"\u001b[39m\u001b[38;5;124mraw_input was called, but this frontend does not support input requests.\u001b[39m\u001b[38;5;124m\"\u001b[39m\n\u001b[1;32m   1190\u001b[0m     \u001b[38;5;28;01mraise\u001b[39;00m StdinNotImplementedError(msg)\n\u001b[0;32m-> 1191\u001b[0m \u001b[38;5;28;01mreturn\u001b[39;00m \u001b[38;5;28;43mself\u001b[39;49m\u001b[38;5;241;43m.\u001b[39;49m\u001b[43m_input_request\u001b[49m\u001b[43m(\u001b[49m\n\u001b[1;32m   1192\u001b[0m \u001b[43m    \u001b[49m\u001b[38;5;28;43mstr\u001b[39;49m\u001b[43m(\u001b[49m\u001b[43mprompt\u001b[49m\u001b[43m)\u001b[49m\u001b[43m,\u001b[49m\n\u001b[1;32m   1193\u001b[0m \u001b[43m    \u001b[49m\u001b[38;5;28;43mself\u001b[39;49m\u001b[38;5;241;43m.\u001b[39;49m\u001b[43m_parent_ident\u001b[49m\u001b[43m[\u001b[49m\u001b[38;5;124;43m\"\u001b[39;49m\u001b[38;5;124;43mshell\u001b[39;49m\u001b[38;5;124;43m\"\u001b[39;49m\u001b[43m]\u001b[49m\u001b[43m,\u001b[49m\n\u001b[1;32m   1194\u001b[0m \u001b[43m    \u001b[49m\u001b[38;5;28;43mself\u001b[39;49m\u001b[38;5;241;43m.\u001b[39;49m\u001b[43mget_parent\u001b[49m\u001b[43m(\u001b[49m\u001b[38;5;124;43m\"\u001b[39;49m\u001b[38;5;124;43mshell\u001b[39;49m\u001b[38;5;124;43m\"\u001b[39;49m\u001b[43m)\u001b[49m\u001b[43m,\u001b[49m\n\u001b[1;32m   1195\u001b[0m \u001b[43m    \u001b[49m\u001b[43mpassword\u001b[49m\u001b[38;5;241;43m=\u001b[39;49m\u001b[38;5;28;43;01mFalse\u001b[39;49;00m\u001b[43m,\u001b[49m\n\u001b[1;32m   1196\u001b[0m \u001b[43m\u001b[49m\u001b[43m)\u001b[49m\n",
      "File \u001b[0;32m/nfs/site/disks/ssm_rakram_001/venv_python39/lib/python3.9/site-packages/ipykernel/kernelbase.py:1234\u001b[0m, in \u001b[0;36mKernel._input_request\u001b[0;34m(self, prompt, ident, parent, password)\u001b[0m\n\u001b[1;32m   1231\u001b[0m \u001b[38;5;28;01mexcept\u001b[39;00m \u001b[38;5;167;01mKeyboardInterrupt\u001b[39;00m:\n\u001b[1;32m   1232\u001b[0m     \u001b[38;5;66;03m# re-raise KeyboardInterrupt, to truncate traceback\u001b[39;00m\n\u001b[1;32m   1233\u001b[0m     msg \u001b[38;5;241m=\u001b[39m \u001b[38;5;124m\"\u001b[39m\u001b[38;5;124mInterrupted by user\u001b[39m\u001b[38;5;124m\"\u001b[39m\n\u001b[0;32m-> 1234\u001b[0m     \u001b[38;5;28;01mraise\u001b[39;00m \u001b[38;5;167;01mKeyboardInterrupt\u001b[39;00m(msg) \u001b[38;5;28;01mfrom\u001b[39;00m \u001b[38;5;28;01mNone\u001b[39;00m\n\u001b[1;32m   1235\u001b[0m \u001b[38;5;28;01mexcept\u001b[39;00m \u001b[38;5;167;01mException\u001b[39;00m:\n\u001b[1;32m   1236\u001b[0m     \u001b[38;5;28mself\u001b[39m\u001b[38;5;241m.\u001b[39mlog\u001b[38;5;241m.\u001b[39mwarning(\u001b[38;5;124m\"\u001b[39m\u001b[38;5;124mInvalid Message:\u001b[39m\u001b[38;5;124m\"\u001b[39m, exc_info\u001b[38;5;241m=\u001b[39m\u001b[38;5;28;01mTrue\u001b[39;00m)\n",
      "\u001b[0;31mKeyboardInterrupt\u001b[0m: Interrupted by user"
     ]
    }
   ],
   "source": [
    "# Let's chat for 5 lines\n",
    "chat_history = chat[:]\n",
    "role, content = process_response(response)\n",
    "chat_history.append({\"role\":role,\"content\":content})\n",
    "#print(chat_history)\n",
    "for step in range(5):\n",
    "    # encode the new user input, add the eos_token and return a tensor in Pytorch\n",
    "#     print(input(\">> User:\"))\n",
    "#     user_ask = [{\"role\":\"user\", \"content\": input(\"content: \")}]\n",
    "#     print(user_ask)\n",
    "    chat_history.append({\"role\":\"user\", \"content\": input(\"content: \")})\n",
    "#     print(chat_history)\n",
    "    tokenized_chat_history = tokenizer.apply_chat_template(chat_history, tokenize=True, add_generation_prompt=True, return_tensors=\"pt\")\n",
    "#     print(tokenizer.decode(tokenized_chat[0]))\n",
    "    output_history = model.generate(tokenized_chat_history, max_new_tokens=256, pad_token_id=tokenizer.eos_token_id)\n",
    "    response_history = tokenizer.decode(output_history[0])\n",
    "    print(response_history)\n",
    "    role, content = process_response(response_history)\n",
    "    chat_history.append({\"role\":role,\"content\":content})\n",
    "#     new_user_input_ids = tokenizer.encode(input(\">> User:\") + tokenizer.eos_token, return_tensors='pt')\n",
    "    # print(new_user_input_ids)\n"
   ]
  }
 ],
 "metadata": {
  "kernelspec": {
   "display_name": "Python 3 (ipykernel)",
   "language": "python",
   "name": "python3"
  },
  "language_info": {
   "codemirror_mode": {
    "name": "ipython",
    "version": 3
   },
   "file_extension": ".py",
   "mimetype": "text/x-python",
   "name": "python",
   "nbconvert_exporter": "python",
   "pygments_lexer": "ipython3",
   "version": "3.9.6"
  },
  "toc": {
   "base_numbering": 1,
   "nav_menu": {},
   "number_sections": true,
   "sideBar": true,
   "skip_h1_title": false,
   "title_cell": "Table of Contents",
   "title_sidebar": "Contents",
   "toc_cell": false,
   "toc_position": {},
   "toc_section_display": true,
   "toc_window_display": false
  }
 },
 "nbformat": 4,
 "nbformat_minor": 5
}
